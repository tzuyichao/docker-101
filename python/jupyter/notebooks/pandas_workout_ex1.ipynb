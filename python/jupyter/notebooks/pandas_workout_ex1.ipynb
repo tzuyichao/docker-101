{
 "cells": [
  {
   "cell_type": "code",
   "execution_count": 3,
   "id": "750a2db4-46f7-41b9-a02a-39cb00251726",
   "metadata": {},
   "outputs": [],
   "source": [
    "import numpy as np\n",
    "import pandas as pd"
   ]
  },
  {
   "cell_type": "code",
   "execution_count": 4,
   "id": "d8ce4c59-95c5-4fe5-adac-c9c594433729",
   "metadata": {},
   "outputs": [],
   "source": [
    "s = pd.Series([10, 20, 30, 40, 50])"
   ]
  },
  {
   "cell_type": "code",
   "execution_count": 5,
   "id": "e1287690-c1ca-4d98-989c-629de4072d6b",
   "metadata": {},
   "outputs": [
    {
     "data": {
      "text/plain": [
       "0    10\n",
       "1    20\n",
       "2    30\n",
       "3    40\n",
       "4    50\n",
       "dtype: int64"
      ]
     },
     "execution_count": 5,
     "metadata": {},
     "output_type": "execute_result"
    }
   ],
   "source": [
    "s"
   ]
  },
  {
   "cell_type": "code",
   "execution_count": 6,
   "id": "c67f085e-8fdc-4787-9a55-bf67ab9ca298",
   "metadata": {},
   "outputs": [],
   "source": [
    "g = np.random.default_rng()"
   ]
  },
  {
   "cell_type": "code",
   "execution_count": 7,
   "id": "1b779bf1-e7b5-476a-a23a-6cd4ec9246b4",
   "metadata": {},
   "outputs": [
    {
     "data": {
      "text/plain": [
       "array([98,  8, 94, 20, 65, 69, 11, 97, 54, 51])"
      ]
     },
     "execution_count": 7,
     "metadata": {},
     "output_type": "execute_result"
    }
   ],
   "source": [
    "g.integers(0, 100, 10)"
   ]
  },
  {
   "cell_type": "code",
   "execution_count": 8,
   "id": "10c11c7b-72ab-4bae-8cd1-78cfe9dcf078",
   "metadata": {},
   "outputs": [
    {
     "data": {
      "text/plain": [
       "array([74, 82, 44, 31, 76, 43, 54, 90,  3, 54])"
      ]
     },
     "execution_count": 8,
     "metadata": {},
     "output_type": "execute_result"
    }
   ],
   "source": [
    "g.integers(0, 100, 10)"
   ]
  },
  {
   "cell_type": "code",
   "execution_count": 9,
   "id": "58776f66-a98b-459f-8090-84083d580df2",
   "metadata": {},
   "outputs": [],
   "source": [
    "g = np.random.default_rng(0)"
   ]
  },
  {
   "cell_type": "code",
   "execution_count": 10,
   "id": "fefc4517-9af5-4acd-adef-f0ef50b1bc84",
   "metadata": {},
   "outputs": [
    {
     "data": {
      "text/plain": [
       "array([85, 63, 51, 26, 30,  4,  7,  1, 17, 81])"
      ]
     },
     "execution_count": 10,
     "metadata": {},
     "output_type": "execute_result"
    }
   ],
   "source": [
    "g.integers(0, 100, 10)"
   ]
  },
  {
   "cell_type": "code",
   "execution_count": 12,
   "id": "5c6bb063-c776-4e9e-8fb8-ae00153dea49",
   "metadata": {},
   "outputs": [
    {
     "data": {
      "text/plain": [
       "array([85, 63, 51, 26, 30,  4,  7,  1, 17, 81])"
      ]
     },
     "execution_count": 12,
     "metadata": {},
     "output_type": "execute_result"
    }
   ],
   "source": [
    "g = np.random.default_rng(0)\n",
    "g.integers(0, 100, 10)"
   ]
  },
  {
   "cell_type": "code",
   "execution_count": 14,
   "id": "ac1d3852-b919-4a12-8db8-f8bd54c7d5ea",
   "metadata": {},
   "outputs": [],
   "source": [
    "s = pd.Series(g.integers(70, 101, 10))\n",
    "s.index = 'Sep Oct Nov Dec Jan Feb Mar Apr May Jun'.split()"
   ]
  },
  {
   "cell_type": "code",
   "execution_count": 15,
   "id": "3efabdb6-b026-4d46-bff5-4aa1cd577fce",
   "metadata": {},
   "outputs": [
    {
     "data": {
      "text/plain": [
       "Sep     90\n",
       "Oct     98\n",
       "Nov     85\n",
       "Dec     88\n",
       "Jan    100\n",
       "Feb     92\n",
       "Mar     89\n",
       "Apr     86\n",
       "May     87\n",
       "Jun     98\n",
       "dtype: int64"
      ]
     },
     "execution_count": 15,
     "metadata": {},
     "output_type": "execute_result"
    }
   ],
   "source": [
    "s"
   ]
  },
  {
   "cell_type": "code",
   "execution_count": 16,
   "id": "a83721e7-da36-44a7-8984-48ac6d3d802a",
   "metadata": {},
   "outputs": [],
   "source": [
    "months = 'Sep Oct Nov Dec Jan Feb Mar Apr May Jun'.split()\n",
    "s2 = pd.Series(g.integers(70, 101, 10), index=months)"
   ]
  },
  {
   "cell_type": "code",
   "execution_count": 17,
   "id": "e724a12d-04d0-4844-98b2-4fc86a01fabb",
   "metadata": {},
   "outputs": [
    {
     "data": {
      "text/plain": [
       "Sep    78\n",
       "Oct    95\n",
       "Nov    90\n",
       "Dec    70\n",
       "Jan    82\n",
       "Feb    96\n",
       "Mar    87\n",
       "Apr    71\n",
       "May    93\n",
       "Jun    92\n",
       "dtype: int64"
      ]
     },
     "execution_count": 17,
     "metadata": {},
     "output_type": "execute_result"
    }
   ],
   "source": [
    "s2"
   ]
  },
  {
   "cell_type": "code",
   "execution_count": 18,
   "id": "9827ae16-7de6-4a32-b1c4-7817b5c5685a",
   "metadata": {},
   "outputs": [
    {
     "name": "stdout",
     "output_type": "stream",
     "text": [
      "average: 85.4\n"
     ]
    }
   ],
   "source": [
    "print(f\"average: {s2.mean()}\")"
   ]
  },
  {
   "cell_type": "code",
   "execution_count": null,
   "id": "735def97-efd8-40e4-b3da-c5ffaca4ee67",
   "metadata": {},
   "outputs": [],
   "source": [
    " "
   ]
  }
 ],
 "metadata": {
  "kernelspec": {
   "display_name": "Python 3 (ipykernel)",
   "language": "python",
   "name": "python3"
  },
  "language_info": {
   "codemirror_mode": {
    "name": "ipython",
    "version": 3
   },
   "file_extension": ".py",
   "mimetype": "text/x-python",
   "name": "python",
   "nbconvert_exporter": "python",
   "pygments_lexer": "ipython3",
   "version": "3.10.14"
  }
 },
 "nbformat": 4,
 "nbformat_minor": 5
}
